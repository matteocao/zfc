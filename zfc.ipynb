{
 "cells": [
  {
   "cell_type": "markdown",
   "id": "1f49b5b6-17c0-412d-9ba4-cdc799ca23a3",
   "metadata": {},
   "source": [
    "# Zermelo Fraenkel axioms\n",
    "#### Author: Matteo Caorsi\n",
    "\n",
    "## Introduction\n",
    "\n",
    "Why is it so important to give an axomatic definition of set theory? Well, a very naif answer is to give enough rules to teach a computer how to dal with sets! And if a computer can deal with sets, it can also deal with numbers! And from numbers, most of mathematics can be implemented on a computer. And here I am not just referring to numerical mathemtics:mI really mean alsmost all other fields, liike algebra and topology!\n",
    "\n",
    "Of course, you can argue that dealing with infinty may be a bit tricky: let's see what we can do!\n",
    "\n",
    "## Scope\n",
    "\n",
    "In this short notebook we show how it is possible to build abstract set theory ona a computer using the ZFC axioms.\n",
    "\n",
    "The idea is that the axioms should a compelte set of rules to havea computer understand and operate with abstacts sets -- defined as objects.\n",
    "\n",
    "We will also be able to remove some of these axioms and see what the consequences are."
   ]
  },
  {
   "cell_type": "markdown",
   "id": "e52ebbc6-0a37-4488-8c52-3d189f24bfb7",
   "metadata": {},
   "source": [
    "## The definition of a set\n",
    "\n",
    "Well, it's really not easy to define a set without incurring into recursing definitioons: on the dicitonary wou will probably find something like \"a collection of element\". Sure, but what is a collection?\n",
    "\n",
    "Instead, here we will approach sets in a dfferent way: **sets are rigid rooted trees**.\n",
    "\n",
    "### Subdefintions\n",
    "\n",
    " - **tree**: a connectd graph with no cycles\n",
    " - **rooted**: a rooted tree is a tree with a designated vertex called root\n",
    " - **rigid**: a tree is said to be rigid if it has a trivial automorphism group\n",
    "\n",
    "\n",
    "## Examples\n",
    "\n",
    "A rigid tree:\n",
    "\n",
    "![rig](./rigid.png)\n",
    "\n",
    "A non rigid tree, as there is a non-trivial automorphism that permutes $(g, h, i)$\n",
    "\n",
    "![non_rig](./non_rigid.png)\n",
    "\n",
    "Let's define the `class` set to be based on these statements"
   ]
  },
  {
   "cell_type": "code",
   "execution_count": 1,
   "id": "d5e838d4-6d71-4a10-9e21-5fc2297e8ecd",
   "metadata": {},
   "outputs": [
    {
     "data": {
      "text/plain": [
       "[]"
      ]
     },
     "execution_count": 1,
     "metadata": {},
     "output_type": "execute_result"
    }
   ],
   "source": [
    "from typing import List, Union\n",
    "\n",
    "class Set:\n",
    "    \"\"\"The abstract set, that a computer can compute with\"\"\"\n",
    "    elements: Union[List, List['Set']]\n",
    "    \n",
    "    def __init__(self, elements: Union[List, List['Set']]) -> None:\n",
    "        self.elements = elements\n",
    "\n",
    "s = Set([])  # the set containing the empty set\n",
    "s.elements"
   ]
  },
  {
   "cell_type": "markdown",
   "id": "d9185a22-943c-41b5-b365-9de233d185b1",
   "metadata": {},
   "source": [
    "## Building everything from the empty set: Separation and Replacement axioms\n",
    "\n",
    "The empty set in our current defintion is `[]`. It is more of a placeholder than anything else. The empty set correspond to the **leaf nodes** of the rooted graphs.\n",
    "\n",
    "However, we are assuming its exstence: this is an axiom then! In the Zermelo-Fraenkel list of axioms there is actually not an \"empty set axiom\", but rather there are two, the **Separation and Replacement axioms**. Given $\\phi$ a rule (i.e. an expression of first order logic composed by the basic logical operations), the two axioms state that:\n",
    " - $\\exists x\\in a, \\phi(x)$, where $a$ is a set, $\\phi(x)$ is a set as well (separation)\n",
    " - $\\phi(a)$ is a set (replacement)\n",
    "\n",
    "For non-empty sets, the separation axiom is equivalent to the replacement axiom. Hence, the separation axiom is equivalent to the existence of the empty set.\n",
    "\n",
    "Then, the set containing the empty set is `Set([])` and this corresponds to a rooted graph with one edge and 2 vertices (one of which is the root).\n",
    "Out of this basic constructions we can build more elaborate sets:"
   ]
  },
  {
   "cell_type": "code",
   "execution_count": 2,
   "id": "39c6ae28-38a0-4808-b3be-906c41ccb604",
   "metadata": {},
   "outputs": [],
   "source": [
    "from copy import copy\n",
    "\n",
    "\n",
    "# correct example\n",
    "s0 = copy(s)\n",
    "s1 = Set([s])\n",
    "s2 = Set([s0,s1])\n",
    "\n",
    "# wrong example -- for now it is still working\n",
    "wrong = Set([s, s])\n",
    "\n",
    "wrong.elements\n",
    "\n",
    "# cleaning up for next section\n",
    "del Set, s, s0, s1, s2"
   ]
  },
  {
   "cell_type": "markdown",
   "id": "9c1f45d6-5e56-4620-9425-f91faa3846cb",
   "metadata": {},
   "source": [
    "## Extensionality axiom\n",
    "The above set would correspond to a non-rigid graph! Hence, we need to enhance the class `Set` with equality and make sure that there are no repeated elements.\n",
    "This is the main purpose of the extensionality axiiom."
   ]
  },
  {
   "cell_type": "code",
   "execution_count": 3,
   "id": "3704810f-b4c6-4ef8-94d1-90c5bd03fcfe",
   "metadata": {},
   "outputs": [],
   "source": [
    "from typing import Set\n",
    "\n",
    "\n",
    "class MyFirstSet:\n",
    "    \"\"\"A better class for sets\"\"\"\n",
    "    elements: Union[Set, Set['MySet']]\n",
    "    \n",
    "    def __init__(self, elements: Union[Set, Set['MySet']]) -> None:\n",
    "        self.elements = elements\n",
    "        self.max = len(self.elements)\n",
    "        self.elements_iter = iter(self.elements)\n",
    "        \n",
    "    def __eq__(self, other: 'MySet') -> bool:\n",
    "        \"\"\"equality between sets!\"\"\"\n",
    "        return self.elements == other.elements  # we exploit the equalirty between `Set` defined in Python typing\n",
    "        \n",
    "    def __hash__(self) -> int:\n",
    "        if isinstance(self.elements, set):\n",
    "            return hash(str(self.elements))\n",
    "        return hash(self.elements)\n",
    "        \n",
    "    def __repr__(self) -> str:\n",
    "        return str(self.elements)\n",
    "\n",
    "    def __next__(self):\n",
    "        return next(self.elements_iter)\n"
   ]
  },
  {
   "cell_type": "markdown",
   "id": "6e0540ce-0911-4a69-93e6-5de55766f9f4",
   "metadata": {},
   "source": [
    "We have just changesd the implementation of our class to something a bit more structured.\n",
    "\n",
    "In particular:\n",
    " - The empty set is now `set()`\n",
    " - The extensionality axiom is implemented and the equality of hte elements is checked recursively also using `Set` of Python\n",
    " - `__repr__` is for nicer prints"
   ]
  },
  {
   "cell_type": "code",
   "execution_count": 4,
   "id": "73b999bf-a638-48ce-94ba-615d48318b93",
   "metadata": {},
   "outputs": [
    {
     "name": "stdout",
     "output_type": "stream",
     "text": [
      "s0: set()\n",
      "s1: {set()}\n",
      "s2: {{set()}, set()}\n"
     ]
    }
   ],
   "source": [
    "empty = set()\n",
    "\n",
    "s0 = MyFirstSet(empty)\n",
    "print(\"s0:\", s0)\n",
    "s1 = MyFirstSet({s0})\n",
    "print(\"s1:\", s1)\n",
    "s0bis = copy(s0)\n",
    "s2 = MyFirstSet({s0bis, s1})\n",
    "print(\"s2:\", s2)"
   ]
  },
  {
   "cell_type": "code",
   "execution_count": 5,
   "id": "7d27a8ea-265b-4aff-8f57-d3b5c7b010b3",
   "metadata": {},
   "outputs": [
    {
     "name": "stdout",
     "output_type": "stream",
     "text": [
      "declared two elements: {{set()}} ... but actually we are getting only one!\n"
     ]
    }
   ],
   "source": [
    "s1bis = copy(s1)\n",
    "wrong_s2 = MyFirstSet({s1, s1bis})  # this is wrongly declared\n",
    "assert len(wrong_s2.elements) == 1\n",
    "print(\"declared two elements:\", wrong_s2, \"... but actually we are getting only one!\")\n",
    "\n",
    "del s0, s1, s0bis, s1bis, s2"
   ]
  },
  {
   "cell_type": "markdown",
   "id": "bc5b631f-8b49-4b90-9575-85983d7d4910",
   "metadata": {},
   "source": [
    "## Union and Pairing axioms\n",
    "\n",
    "The two **axioms of union and pairing** tell us how two sets can be merged together. The pairing tells us that, given two sets $a$ and $b$ once can form the set $\\{a, b\\}$. Union means that we can do the union of the elements. Here is the implementation:"
   ]
  },
  {
   "cell_type": "code",
   "execution_count": 6,
   "id": "683666d2-0fc1-4af0-bfa0-120f1d45abd6",
   "metadata": {},
   "outputs": [],
   "source": [
    "class MySet:\n",
    "    \"\"\"A definitely better class for sets\"\"\"\n",
    "    elements: Union[Set, Set['MySet']]\n",
    "    \n",
    "    def __init__(self, elements: Union[Set, Set['MySet']]) -> None:\n",
    "        self.elements = elements\n",
    "        self.max = len(self.elements)\n",
    "        self.elements_iter = iter(self.elements)\n",
    "        \n",
    "    def __eq__(self, other: 'MySet') -> bool:\n",
    "        \"\"\"equality between sets!\"\"\"\n",
    "        return self.elements == other.elements  # we exploit the equalirty between `Set` defined in Python typing\n",
    "        \n",
    "    def __hash__(self) -> int:\n",
    "        if isinstance(self.elements, set):\n",
    "            return hash(str(self.elements))\n",
    "        return hash(self.elements)\n",
    "        \n",
    "    def __repr__(self) -> str:\n",
    "        return str(self.elements)\n",
    "\n",
    "    def __next__(self):\n",
    "        return next(self.elements_iter)\n",
    "    \n",
    "    def __len__(self):\n",
    "        \"\"\"this method is the key to mapping set\n",
    "        theory to the natural numbers!!\"\"\"\n",
    "        return len(self.elements)\n",
    "    \n",
    "    def __iter__(self):\n",
    "        return self\n",
    "    \n",
    "    def union(self, other):\n",
    "        \"\"\"Union operation\"\"\"\n",
    "        new_set_elements = self.elements.union(other.elements)\n",
    "        new_set = MySet(new_set_elements)\n",
    "        return new_set\n",
    "    \n",
    "    def pairing(self, other):\n",
    "        \"\"\"Pairing operation\"\"\"\n",
    "        new_set = MySet({self, other})\n",
    "        return new_set"
   ]
  },
  {
   "cell_type": "code",
   "execution_count": 7,
   "id": "77e046c3-7ed0-48ff-bf2c-97e9e9abc5a7",
   "metadata": {},
   "outputs": [
    {
     "name": "stdout",
     "output_type": "stream",
     "text": [
      "{{set()}} {set()}\n",
      "{{set()}} {set()}   -- pairing -->   {{set()}, {{set()}}}\n",
      "{{set()}} {set()}   -- union -->   {{set()}, set()}\n",
      "0 1 1 2 2\n"
     ]
    }
   ],
   "source": [
    "empty = set()\n",
    "\n",
    "s0 = MySet(empty) \n",
    "\n",
    "s1 = MySet({s0})\n",
    "s2 = MySet({s1})\n",
    "print(s2, s1)\n",
    "s3 = s2.pairing(s1)\n",
    "print(s2, s1, \"  -- pairing -->  \", s3)\n",
    "s4 = s2.union(s1)\n",
    "print(s2, s1, \"  -- union -->  \", s4)\n",
    "\n",
    "print(len(s0), len(s1), len(s2), len(s3), len(s4))"
   ]
  },
  {
   "cell_type": "markdown",
   "id": "34a6ab16-9641-4d19-93e9-95739b0d8f6c",
   "metadata": {},
   "source": [
    "## Foundation axiom\n",
    "\n",
    "In the setting above, te foundation axiom states that the branches  of the tree cannot have infite depth. This is related to **preveting the Russel paradox**.\n",
    "Indeed, in case you accept that a set $a$ is allowed to satisfy this property: $a \\in a$, then the the Russel paradox kicks in.\n",
    "\n",
    "This is automatically implemented in python, as there cannot be infinite recursion on the set elements.\n",
    "\n",
    "## The infinity axiom\n",
    "\n",
    "In our setting, this axiom states that is is possible to have a set (i.e. a tree) which is infiniteyl wide.\n",
    "\n",
    "We can implement this in python with iterators!"
   ]
  },
  {
   "cell_type": "code",
   "execution_count": 8,
   "id": "030fe31f-6ea2-47d1-80b2-b0ed84ba8f24",
   "metadata": {},
   "outputs": [],
   "source": [
    "from typing import Type\n",
    "\n",
    "class InfinitySet(MySet):\n",
    "    def __init__(self, maximum: int = 10, cls: Type[MySet] = MySet) -> None:\n",
    "        empty = set()\n",
    "        self.cls = cls\n",
    "        self.previous = self.cls(empty)  # start with empty set\n",
    "        self.previous_singleton = self.cls(empty)  # start with empty set\n",
    "        super().__init__(self.previous)\n",
    "        self.maximum = maximum\n",
    "        self.n = 0\n",
    "        \n",
    "    #def __iter__(self) -> 'InfinitySet':\n",
    "    #    self.n: int = 0\n",
    "    #    return self\n",
    "        \n",
    "    def __next__(self) -> MySet:\n",
    "        if self.n < self.maximum:\n",
    "            self.n +=1\n",
    "            new = self.cls({self.previous_singleton})\n",
    "            self.previous_singleton = copy(new)\n",
    "            new = new.union(self.previous)\n",
    "            self.previous = new\n",
    "            return new\n",
    "        else:\n",
    "            raise StopIteration"
   ]
  },
  {
   "cell_type": "markdown",
   "id": "049c89e0-5d31-4fd9-b5eb-d560299b0acc",
   "metadata": {},
   "source": [
    "As you can see in the next cell, the Infinity set has been generated up to the set with three elements:"
   ]
  },
  {
   "cell_type": "code",
   "execution_count": 9,
   "id": "479d7ad8-7b55-43fc-91f2-119ec3a5c21b",
   "metadata": {},
   "outputs": [
    {
     "data": {
      "text/plain": [
       "{{set()}, set(), {{set()}}}"
      ]
     },
     "execution_count": 9,
     "metadata": {},
     "output_type": "execute_result"
    }
   ],
   "source": [
    "inf_set = InfinitySet(3)  # need to run through it to get the elements\n",
    "list(inf_set)[-1]"
   ]
  },
  {
   "cell_type": "markdown",
   "id": "ee8a0744-bd9a-4725-b8b5-aaeb44241dfa",
   "metadata": {},
   "source": [
    "## Powerset axiom\n",
    "\n",
    "We have not yet defined what a subset is! Hence, in order to naturally be able to take powersets (i.e. the set of all the subsets) it is either necessary to define subsets or to axiomatise the existenc of the Poweset. Zermelo and Fraenkel chose the second option."
   ]
  },
  {
   "cell_type": "code",
   "execution_count": 27,
   "id": "57f3766c-5a24-4d99-bc21-1c40a78bf029",
   "metadata": {},
   "outputs": [
    {
     "name": "stdout",
     "output_type": "stream",
     "text": [
      "s0: set()\n",
      "s1: {set()}\n",
      "s2: {{set()}, set()}\n",
      "[(), ({set()},), (set(),), ({set()}, set())]\n",
      "{{set()}, {{set()}, set()}, set(), {{set()}}}\n",
      "The powerset of {{set()}, set()} is:  {{set()}, {{set()}, set()}, set(), {{set()}}}\n",
      "[(), ({set()},), (set(),), ({set()}, set())]\n",
      "{{set()}, {{set()}, set()}, set(), {{set()}}}\n"
     ]
    }
   ],
   "source": [
    "from itertools import chain, combinations\n",
    "\n",
    "\n",
    "class MyImprovedSet(MySet):\n",
    "    def powerset(self) -> 'MyImporvedSet':\n",
    "        \"\"\"powerset([1,2,3]) --> () (1,) (2,) (3,) (1,2) (1,3) (2,3) (1,2,3)\"\"\"\n",
    "        s = self.elements\n",
    "        iterable_of_tuples = chain.from_iterable(combinations(MyImprovedSet(s), r) for r in range(len(s) + 1))\n",
    "        fun = lambda x: MyImprovedSet(set(x))\n",
    "        list_of_tuples = list(iterable_of_tuples)\n",
    "        print(list_of_tuples)\n",
    "        print(set(map(fun, list_of_tuples)))\n",
    "        return MyImprovedSet(set(map(fun, list_of_tuples)))\n",
    "    \n",
    "    \n",
    "empty = set()\n",
    "\n",
    "s0 = MyImprovedSet(empty)\n",
    "print(\"s0:\", s0)\n",
    "s1 = MyImprovedSet({s0})\n",
    "print(\"s1:\", s1)\n",
    "s0bis = copy(s0)\n",
    "s2 = MyImprovedSet({s0bis, s1})\n",
    "print(\"s2:\", s2)\n",
    "assert len(s2) == 2\n",
    "print(f\"The powerset of {s2} is: \", s2.powerset())\n",
    "assert len(s2.powerset()) == 4"
   ]
  },
  {
   "cell_type": "markdown",
   "id": "26fdb499-16b2-47c0-9c4d-4e645e1304a9",
   "metadata": {},
   "source": [
    "By the way, the construction we were starting above with `s0,s1,s2` is the beginning of the **Von Neumann hierarchy**. In short, we build a sequence of sets\n",
    "$$V_{\\alpha+1} = Powerset(V_{\\alpha}), V_0 = \\emptyset$$\n",
    "Once we reach \"infinity\", we also define \n",
    "$$V_\\omega = Union(V_\\alpha) \\forall \\alpha$$\n",
    "and continue the hierarchy with \n",
    "$$V_{\\omega+1} = Powerset(V_\\omega)$$\n",
    "\n",
    "For your information, $V_\\omega$ is the universe of rational numbers, $V_{\\omega+1}$ is the universe of real numbers and so on... with increasing cardinality (aleph)."
   ]
  },
  {
   "cell_type": "markdown",
   "id": "181c3913-991c-4534-b83d-62c34d7ac3f6",
   "metadata": {},
   "source": [
    "## Axiom of choice\n",
    "\n",
    "We come now to the most controversial axiom of all set theory: **the axiom of choice**.\n",
    "\n",
    "It short, it states that, given a list of non-empty subsets of a set, it is always possible to pick one element for each subset.\n",
    "\n",
    "The big question (and the controversy) is: how do we pick the element!? In case of the existence of an ordering for xample, once can simply define the representative element by choosing the smallest (or largest) element in the subset -- hence no need for the axiom of choice. But in the more general case?\n",
    "\n",
    "In python we clearly see how important this axiom is, as we would really like to write a `element` method that returns a single element... but indeed, how do we pick it?"
   ]
  },
  {
   "cell_type": "code",
   "execution_count": 31,
   "id": "c917c844-efbc-4431-857d-7de531c13875",
   "metadata": {},
   "outputs": [
    {
     "name": "stdout",
     "output_type": "stream",
     "text": [
      "s0: set()\n",
      "s1: {set()}\n",
      "s2: {{set()}, set()}\n",
      "An element of s2 (which is again a set):  {set()}\n"
     ]
    }
   ],
   "source": [
    "class MyFinalSet(MyImprovedSet):\n",
    "    def pick(self):\n",
    "        return list(self.elements)[0]  # one possibility among infinitely many others\n",
    "        \n",
    "empty = set()\n",
    "\n",
    "s0 = MyFinalSet(empty)\n",
    "print(\"s0:\", s0)\n",
    "s1 = MyFinalSet({s0})\n",
    "print(\"s1:\", s1)\n",
    "s0bis = copy(s0)\n",
    "s2 = MyFinalSet({s0bis, s1})\n",
    "print(\"s2:\", s2)\n",
    "print(\"An element of s2 (which is again a set): \", s2.pick())"
   ]
  },
  {
   "cell_type": "code",
   "execution_count": null,
   "id": "e5ac88bf-2d39-4b76-a239-25de4b2b1f95",
   "metadata": {},
   "outputs": [],
   "source": []
  }
 ],
 "metadata": {
  "kernelspec": {
   "display_name": "Python 3 (ipykernel)",
   "language": "python",
   "name": "python3"
  },
  "language_info": {
   "codemirror_mode": {
    "name": "ipython",
    "version": 3
   },
   "file_extension": ".py",
   "mimetype": "text/x-python",
   "name": "python",
   "nbconvert_exporter": "python",
   "pygments_lexer": "ipython3",
   "version": "3.9.7"
  }
 },
 "nbformat": 4,
 "nbformat_minor": 5
}
